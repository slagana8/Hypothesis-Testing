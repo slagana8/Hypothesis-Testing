{
 "cells": [
  {
   "cell_type": "markdown",
   "id": "b292ffa8",
   "metadata": {},
   "source": [
    "# Hypothesis Testing with Insurance Data (Core)"
   ]
  },
  {
   "cell_type": "code",
   "execution_count": 1,
   "id": "46da154b",
   "metadata": {},
   "outputs": [],
   "source": [
    "# imports\n",
    "import pandas as pd\n",
    "import numpy as np\n",
    "import matplotlib.pyplot as plt\n",
    "import seaborn as sns\n",
    "import scipy.stats as stats\n",
    "from statsmodels.stats.multicomp import pairwise_tukeyhsd"
   ]
  },
  {
   "cell_type": "code",
   "execution_count": 2,
   "id": "92a0fcc4",
   "metadata": {},
   "outputs": [
    {
     "data": {
      "text/html": [
       "<div>\n",
       "<style scoped>\n",
       "    .dataframe tbody tr th:only-of-type {\n",
       "        vertical-align: middle;\n",
       "    }\n",
       "\n",
       "    .dataframe tbody tr th {\n",
       "        vertical-align: top;\n",
       "    }\n",
       "\n",
       "    .dataframe thead th {\n",
       "        text-align: right;\n",
       "    }\n",
       "</style>\n",
       "<table border=\"1\" class=\"dataframe\">\n",
       "  <thead>\n",
       "    <tr style=\"text-align: right;\">\n",
       "      <th></th>\n",
       "      <th>age</th>\n",
       "      <th>sex</th>\n",
       "      <th>bmi</th>\n",
       "      <th>children</th>\n",
       "      <th>smoker</th>\n",
       "      <th>region</th>\n",
       "      <th>charges</th>\n",
       "    </tr>\n",
       "  </thead>\n",
       "  <tbody>\n",
       "    <tr>\n",
       "      <th>0</th>\n",
       "      <td>19</td>\n",
       "      <td>female</td>\n",
       "      <td>27.900</td>\n",
       "      <td>0</td>\n",
       "      <td>yes</td>\n",
       "      <td>southwest</td>\n",
       "      <td>16884.92400</td>\n",
       "    </tr>\n",
       "    <tr>\n",
       "      <th>1</th>\n",
       "      <td>18</td>\n",
       "      <td>male</td>\n",
       "      <td>33.770</td>\n",
       "      <td>1</td>\n",
       "      <td>no</td>\n",
       "      <td>southeast</td>\n",
       "      <td>1725.55230</td>\n",
       "    </tr>\n",
       "    <tr>\n",
       "      <th>2</th>\n",
       "      <td>28</td>\n",
       "      <td>male</td>\n",
       "      <td>33.000</td>\n",
       "      <td>3</td>\n",
       "      <td>no</td>\n",
       "      <td>southeast</td>\n",
       "      <td>4449.46200</td>\n",
       "    </tr>\n",
       "    <tr>\n",
       "      <th>3</th>\n",
       "      <td>33</td>\n",
       "      <td>male</td>\n",
       "      <td>22.705</td>\n",
       "      <td>0</td>\n",
       "      <td>no</td>\n",
       "      <td>northwest</td>\n",
       "      <td>21984.47061</td>\n",
       "    </tr>\n",
       "    <tr>\n",
       "      <th>4</th>\n",
       "      <td>32</td>\n",
       "      <td>male</td>\n",
       "      <td>28.880</td>\n",
       "      <td>0</td>\n",
       "      <td>no</td>\n",
       "      <td>northwest</td>\n",
       "      <td>3866.85520</td>\n",
       "    </tr>\n",
       "  </tbody>\n",
       "</table>\n",
       "</div>"
      ],
      "text/plain": [
       "   age     sex     bmi  children smoker     region      charges\n",
       "0   19  female  27.900         0    yes  southwest  16884.92400\n",
       "1   18    male  33.770         1     no  southeast   1725.55230\n",
       "2   28    male  33.000         3     no  southeast   4449.46200\n",
       "3   33    male  22.705         0     no  northwest  21984.47061\n",
       "4   32    male  28.880         0     no  northwest   3866.85520"
      ]
     },
     "execution_count": 2,
     "metadata": {},
     "output_type": "execute_result"
    }
   ],
   "source": [
    "# Load data\n",
    "df = pd.read_csv(\"Data/insurance - insurance.csv\")\n",
    "df.head()"
   ]
  },
  {
   "cell_type": "code",
   "execution_count": 3,
   "id": "6b4f2c17",
   "metadata": {},
   "outputs": [
    {
     "name": "stdout",
     "output_type": "stream",
     "text": [
      "<class 'pandas.core.frame.DataFrame'>\n",
      "RangeIndex: 1338 entries, 0 to 1337\n",
      "Data columns (total 7 columns):\n",
      " #   Column    Non-Null Count  Dtype  \n",
      "---  ------    --------------  -----  \n",
      " 0   age       1338 non-null   int64  \n",
      " 1   sex       1338 non-null   object \n",
      " 2   bmi       1338 non-null   float64\n",
      " 3   children  1338 non-null   int64  \n",
      " 4   smoker    1338 non-null   object \n",
      " 5   region    1338 non-null   object \n",
      " 6   charges   1338 non-null   float64\n",
      "dtypes: float64(2), int64(2), object(3)\n",
      "memory usage: 73.3+ KB\n"
     ]
    }
   ],
   "source": [
    "df.info()"
   ]
  },
  {
   "cell_type": "markdown",
   "id": "1f6c87b6",
   "metadata": {},
   "source": [
    "## Q1. Do smokers have higher insurance charges than non-smokers?"
   ]
  },
  {
   "cell_type": "markdown",
   "id": "70433ad4",
   "metadata": {},
   "source": [
    "Null Hypothesis: Insurance charges are not higher if you are a smoker compared to a non-smoker\n",
    "\n",
    "Alternative Hypothesis: Insurance charges are higher if you are a smoker compared to a non-smoker\n",
    "\n",
    "Will perform 2 sample ttest\n",
    "- Target is numeric and have 2 samples"
   ]
  },
  {
   "cell_type": "code",
   "execution_count": 4,
   "id": "2e4fe39e",
   "metadata": {},
   "outputs": [
    {
     "data": {
      "text/plain": [
       "no     1064\n",
       "yes     274\n",
       "Name: smoker, dtype: int64"
      ]
     },
     "execution_count": 4,
     "metadata": {},
     "output_type": "execute_result"
    }
   ],
   "source": [
    "# How many non-smokers and smokers\n",
    "df[\"smoker\"].value_counts()"
   ]
  },
  {
   "cell_type": "code",
   "execution_count": 5,
   "id": "3aa083da",
   "metadata": {},
   "outputs": [],
   "source": [
    "# filtering out non-smokers and smokers\n",
    "smoker_df = df.loc[df[\"smoker\"]==\"yes\"].copy()\n",
    "non_smoker_df = df.loc[df[\"smoker\"]==\"no\"].copy()"
   ]
  },
  {
   "cell_type": "code",
   "execution_count": 6,
   "id": "d5d39abf",
   "metadata": {},
   "outputs": [],
   "source": [
    "# define out feature of interest\n",
    "smoker_insurance = smoker_df[\"charges\"]\n",
    "non_smoker_insurance = non_smoker_df[\"charges\"]"
   ]
  },
  {
   "cell_type": "code",
   "execution_count": 7,
   "id": "1a941d15",
   "metadata": {},
   "outputs": [
    {
     "data": {
      "text/plain": [
       "0"
      ]
     },
     "execution_count": 7,
     "metadata": {},
     "output_type": "execute_result"
    }
   ],
   "source": [
    "# check for outliers in charges for smoker group \n",
    "zscores = stats.zscore(smoker_insurance)\n",
    "outliers = abs(zscores)>3\n",
    "np.sum(outliers)"
   ]
  },
  {
   "cell_type": "code",
   "execution_count": 8,
   "id": "dbe54d21",
   "metadata": {},
   "outputs": [
    {
     "data": {
      "text/plain": [
       "24"
      ]
     },
     "execution_count": 8,
     "metadata": {},
     "output_type": "execute_result"
    }
   ],
   "source": [
    "# check for outliers in chargers for non smoker group \n",
    "zscores = stats.zscore(non_smoker_insurance)\n",
    "outliers = abs(zscores)>3\n",
    "np.sum(outliers)"
   ]
  },
  {
   "cell_type": "code",
   "execution_count": 9,
   "id": "ee8d481e",
   "metadata": {},
   "outputs": [],
   "source": [
    "# remove outliers \n",
    "non_smoker_insurance = non_smoker_insurance[(np.abs(stats.zscore(non_smoker_insurance))<3)]"
   ]
  },
  {
   "cell_type": "code",
   "execution_count": 10,
   "id": "5e54ecd7",
   "metadata": {},
   "outputs": [
    {
     "data": {
      "text/plain": [
       "NormaltestResult(statistic=61.03941356533816, pvalue=5.564930630036463e-14)"
      ]
     },
     "execution_count": 10,
     "metadata": {},
     "output_type": "execute_result"
    }
   ],
   "source": [
    "# check for normality in smoker group\n",
    "result_smoker_insurance = stats.normaltest(smoker_insurance)\n",
    "result_smoker_insurance"
   ]
  },
  {
   "cell_type": "code",
   "execution_count": 11,
   "id": "d77417f6",
   "metadata": {},
   "outputs": [
    {
     "data": {
      "text/plain": [
       "NormaltestResult(statistic=163.80367047789198, pvalue=2.6945416315543976e-36)"
      ]
     },
     "execution_count": 11,
     "metadata": {},
     "output_type": "execute_result"
    }
   ],
   "source": [
    "# check for normality in non-smoker group \n",
    "result_non_smoker_insurance = stats.normaltest(non_smoker_insurance)\n",
    "result_non_smoker_insurance"
   ]
  },
  {
   "cell_type": "code",
   "execution_count": 12,
   "id": "4797deb9",
   "metadata": {},
   "outputs": [
    {
     "data": {
      "text/plain": [
       "LeveneResult(statistic=520.7468821724297, pvalue=2.4247238784347824e-97)"
      ]
     },
     "execution_count": 12,
     "metadata": {},
     "output_type": "execute_result"
    }
   ],
   "source": [
    "# check for equal variance \n",
    "result = stats.levene(smoker_insurance, non_smoker_insurance)\n",
    "result"
   ]
  },
  {
   "cell_type": "markdown",
   "id": "2f9a9ca9",
   "metadata": {},
   "source": [
    "- Our smoker group is normally distributed\n",
    "- Our non-smoker group not normally distributed but I will continue because our sample size is sufficient\n",
    "- we have equal variance"
   ]
  },
  {
   "cell_type": "code",
   "execution_count": 13,
   "id": "a161657d",
   "metadata": {},
   "outputs": [
    {
     "data": {
      "text/plain": [
       "Ttest_indResult(statistic=51.2078044173717, pvalue=3.68768124e-315)"
      ]
     },
     "execution_count": 13,
     "metadata": {},
     "output_type": "execute_result"
    }
   ],
   "source": [
    "# Run independent t-test\n",
    "result = stats.ttest_ind(smoker_insurance, non_smoker_insurance)\n",
    "result"
   ]
  },
  {
   "cell_type": "markdown",
   "id": "24a5aef2",
   "metadata": {},
   "source": [
    "Since our p value < alpha(0.05) we can reject the null hypothesis and accept that smokers have higher insurance charges compared to non-smokers"
   ]
  },
  {
   "cell_type": "code",
   "execution_count": 14,
   "id": "601c74bd",
   "metadata": {},
   "outputs": [
    {
     "data": {
      "image/png": "[encoded data removed]",
      "text/plain": [
       "<Figure size 432x288 with 1 Axes>"
      ]
     },
     "metadata": {
      "needs_background": "light"
     },
     "output_type": "display_data"
    }
   ],
   "source": [
    "# Visualization \n",
    "ax = sns.barplot(data =df , x = df[\"smoker\"], y = df[\"charges\"])\n",
    "ax.set_title(\"Comparison of insurance charges of Smokers vs. Non-Smokers\");"
   ]
  },
  {
   "cell_type": "markdown",
   "id": "5c0c9d28",
   "metadata": {},
   "source": [
    "## Q2. Are men more likely to smoke than women?"
   ]
  },
  {
   "cell_type": "markdown",
   "id": "d5653078",
   "metadata": {},
   "source": [
    "Null Hypothesis: Men are not more likely to smoke than women\n",
    "\n",
    "Alternative Hypothesis: Men are more likely to smoke than women\n",
    "\n",
    "Will perform Chi-square test \n",
    "- target is categorical"
   ]
  },
  {
   "cell_type": "code",
   "execution_count": 32,
   "id": "5c12d18a",
   "metadata": {},
   "outputs": [
    {
     "data": {
      "text/plain": [
       "Text(0.5, 1.0, 'Smokers by sex')"
      ]
     },
     "execution_count": 32,
     "metadata": {},
     "output_type": "execute_result"
    },
    {
     "data": {
      "image/png": "[encoded data removed]",
      "text/plain": [
       "<Figure size 432x288 with 1 Axes>"
      ]
     },
     "metadata": {
      "needs_background": "light"
     },
     "output_type": "display_data"
    }
   ],
   "source": [
    "# Plot\n",
    "ax = sns.countplot(data = df, x = \"sex\", hue = \"smoker\")\n",
    "ax.set_title(\"Smokers by sex\")"
   ]
  },
  {
   "cell_type": "code",
   "execution_count": 33,
   "id": "87cb62b5",
   "metadata": {},
   "outputs": [
    {
     "data": {
      "text/html": [
       "<div>\n",
       "<style scoped>\n",
       "    .dataframe tbody tr th:only-of-type {\n",
       "        vertical-align: middle;\n",
       "    }\n",
       "\n",
       "    .dataframe tbody tr th {\n",
       "        vertical-align: top;\n",
       "    }\n",
       "\n",
       "    .dataframe thead th {\n",
       "        text-align: right;\n",
       "    }\n",
       "</style>\n",
       "<table border=\"1\" class=\"dataframe\">\n",
       "  <thead>\n",
       "    <tr style=\"text-align: right;\">\n",
       "      <th>smoker</th>\n",
       "      <th>no</th>\n",
       "      <th>yes</th>\n",
       "    </tr>\n",
       "    <tr>\n",
       "      <th>sex</th>\n",
       "      <th></th>\n",
       "      <th></th>\n",
       "    </tr>\n",
       "  </thead>\n",
       "  <tbody>\n",
       "    <tr>\n",
       "      <th>female</th>\n",
       "      <td>547</td>\n",
       "      <td>115</td>\n",
       "    </tr>\n",
       "    <tr>\n",
       "      <th>male</th>\n",
       "      <td>517</td>\n",
       "      <td>159</td>\n",
       "    </tr>\n",
       "  </tbody>\n",
       "</table>\n",
       "</div>"
      ],
      "text/plain": [
       "smoker   no  yes\n",
       "sex             \n",
       "female  547  115\n",
       "male    517  159"
      ]
     },
     "execution_count": 33,
     "metadata": {},
     "output_type": "execute_result"
    }
   ],
   "source": [
    "# calculate the contingency table\n",
    "table = pd.crosstab(df[\"sex\"], df[\"smoker\"])\n",
    "table"
   ]
  },
  {
   "cell_type": "code",
   "execution_count": 34,
   "id": "fcc54f9b",
   "metadata": {},
   "outputs": [],
   "source": [
    "# # Run test and save output\n",
    "result = stats.chi2_contingency(table)\n",
    "chi2, p, deg_free, expected_vals = result"
   ]
  },
  {
   "cell_type": "code",
   "execution_count": 35,
   "id": "fda2f2c8",
   "metadata": {},
   "outputs": [
    {
     "name": "stdout",
     "output_type": "stream",
     "text": [
      "0.006548143503580696\n"
     ]
    },
    {
     "data": {
      "text/plain": [
       "True"
      ]
     },
     "execution_count": 35,
     "metadata": {},
     "output_type": "execute_result"
    }
   ],
   "source": [
    "print(p)\n",
    "p<.05"
   ]
  },
  {
   "cell_type": "markdown",
   "id": "39887782",
   "metadata": {},
   "source": [
    "- Since our p-value is less than 0.05 we have a significant result and can reject the null hypothesis.\n",
    "- We accept the alternate hypothesis and conclude that men are more likely to smoke than women "
   ]
  },
  {
   "cell_type": "markdown",
   "id": "33c5744e",
   "metadata": {},
   "source": [
    "## Q3. Do different regions have different charges, on average?\n",
    "\n",
    "Null Hypothesis - Different regions to not have a difference in charges on average\n",
    "\n",
    "Alternate Hypothesis - Different regions do have a difference in charges on average \n",
    "\n",
    "Will perform an ANOVA test \n",
    "- Target is numerican and has more than 2 samples\n",
    "- If null hypothesis is rejected I will use a post-hoc tukey test."
   ]
  },
  {
   "cell_type": "code",
   "execution_count": 37,
   "id": "0ca68b4b",
   "metadata": {},
   "outputs": [
    {
     "data": {
      "text/plain": [
       "Text(0.5, 1.0, 'Charges Based on Region ')"
      ]
     },
     "execution_count": 37,
     "metadata": {},
     "output_type": "execute_result"
    },
    {
     "data": {
      "image/png": "[encoded data removed]",
      "text/plain": [
       "<Figure size 432x288 with 1 Axes>"
      ]
     },
     "metadata": {
      "needs_background": "light"
     },
     "output_type": "display_data"
    }
   ],
   "source": [
    "# Visualize \n",
    "ax = sns.barplot(data = df, x = \"region\", y = \"charges\")\n",
    "ax.set_title(\"Charges Based on Region \")"
   ]
  },
  {
   "cell_type": "code",
   "execution_count": 38,
   "id": "221a82a6",
   "metadata": {},
   "outputs": [
    {
     "data": {
      "text/plain": [
       "dict_keys(['southwest', 'southeast', 'northwest', 'northeast'])"
      ]
     },
     "execution_count": 38,
     "metadata": {},
     "output_type": "execute_result"
    }
   ],
   "source": [
    "# Create groups dict\n",
    "groups = {}\n",
    "# Loop \n",
    "for i in df[\"region\"].unique():\n",
    "    # get series for group and rename\n",
    "    data = df.loc[df[\"region\"]==i, \"charges\"].copy()\n",
    "    \n",
    "    # save into dict\n",
    "    groups[i] = data\n",
    "groups.keys()"
   ]
  },
  {
   "cell_type": "code",
   "execution_count": 39,
   "id": "fe366247",
   "metadata": {},
   "outputs": [
    {
     "data": {
      "text/html": [
       "<div>\n",
       "<style scoped>\n",
       "    .dataframe tbody tr th:only-of-type {\n",
       "        vertical-align: middle;\n",
       "    }\n",
       "\n",
       "    .dataframe tbody tr th {\n",
       "        vertical-align: top;\n",
       "    }\n",
       "\n",
       "    .dataframe thead th {\n",
       "        text-align: right;\n",
       "    }\n",
       "</style>\n",
       "<table border=\"1\" class=\"dataframe\">\n",
       "  <thead>\n",
       "    <tr style=\"text-align: right;\">\n",
       "      <th></th>\n",
       "      <th>n</th>\n",
       "      <th>p</th>\n",
       "      <th>test_stat</th>\n",
       "    </tr>\n",
       "  </thead>\n",
       "  <tbody>\n",
       "    <tr>\n",
       "      <th>southwest</th>\n",
       "      <td>325.0</td>\n",
       "      <td>6.125298e-23</td>\n",
       "      <td>102.294059</td>\n",
       "    </tr>\n",
       "    <tr>\n",
       "      <th>southeast</th>\n",
       "      <td>364.0</td>\n",
       "      <td>4.953297e-15</td>\n",
       "      <td>65.877446</td>\n",
       "    </tr>\n",
       "    <tr>\n",
       "      <th>northwest</th>\n",
       "      <td>325.0</td>\n",
       "      <td>5.184209e-24</td>\n",
       "      <td>107.232850</td>\n",
       "    </tr>\n",
       "    <tr>\n",
       "      <th>northeast</th>\n",
       "      <td>324.0</td>\n",
       "      <td>1.455431e-19</td>\n",
       "      <td>86.747629</td>\n",
       "    </tr>\n",
       "  </tbody>\n",
       "</table>\n",
       "</div>"
      ],
      "text/plain": [
       "               n             p   test_stat\n",
       "southwest  325.0  6.125298e-23  102.294059\n",
       "southeast  364.0  4.953297e-15   65.877446\n",
       "northwest  325.0  5.184209e-24  107.232850\n",
       "northeast  324.0  1.455431e-19   86.747629"
      ]
     },
     "execution_count": 39,
     "metadata": {},
     "output_type": "execute_result"
    }
   ],
   "source": [
    "# Normality test of each group and confirming there is greater than 15 in each group \n",
    "norm_results = {}\n",
    "for i, data in groups.items():\n",
    "    stat, p = stats.normaltest(data)\n",
    "    # save pval, test stat, and size of group \n",
    "    norm_results[i] = {\"n\":len(data),\n",
    "                      \"p\":p,\n",
    "                      \"test_stat\":stat,}\n",
    "# convert to df\n",
    "norm_results_df = pd.DataFrame(norm_results).T\n",
    "norm_results_df"
   ]
  },
  {
   "cell_type": "markdown",
   "id": "3b9792d9",
   "metadata": {},
   "source": [
    "- Groups don't have normal distribution but we can ignore due to having a sample size > 15"
   ]
  },
  {
   "cell_type": "code",
   "execution_count": 40,
   "id": "616f85a6",
   "metadata": {},
   "outputs": [
    {
     "data": {
      "text/plain": [
       "LeveneResult(statistic=5.559966758410606, pvalue=0.0008610590250786703)"
      ]
     },
     "execution_count": 40,
     "metadata": {},
     "output_type": "execute_result"
    }
   ],
   "source": [
    "# Testing assumption equal variance\n",
    "stats.levene(*groups.values())"
   ]
  },
  {
   "cell_type": "markdown",
   "id": "05d6f940",
   "metadata": {},
   "source": [
    "- p-value is < 0.05 therefore our groups do not have equal variance"
   ]
  },
  {
   "cell_type": "code",
   "execution_count": 42,
   "id": "d0566be9",
   "metadata": {},
   "outputs": [
    {
     "data": {
      "text/plain": [
       "F_onewayResult(statistic=2.96962669358912, pvalue=0.0308933560705201)"
      ]
     },
     "execution_count": 42,
     "metadata": {},
     "output_type": "execute_result"
    }
   ],
   "source": [
    "# Perform test\n",
    "results = stats.f_oneway(*groups.values())\n",
    "results"
   ]
  },
  {
   "cell_type": "markdown",
   "id": "524132c0",
   "metadata": {},
   "source": [
    "- p-value is less than 0.05 therefore we reject our null hypothesis and accept our alternate hypothesis\n",
    "- We will now perform a post-hoc tukey test to find out which groups were different"
   ]
  },
  {
   "cell_type": "code",
   "execution_count": 43,
   "id": "e5122c60",
   "metadata": {},
   "outputs": [],
   "source": [
    "from statsmodels.stats.multicomp import pairwise_tukeyhsd"
   ]
  },
  {
   "cell_type": "code",
   "execution_count": 44,
   "id": "8225d799",
   "metadata": {},
   "outputs": [],
   "source": [
    "# save values and labels\n",
    "values = df[\"charges\"]\n",
    "labels = df[\"region\"]"
   ]
  },
  {
   "cell_type": "code",
   "execution_count": 45,
   "id": "d0f76503",
   "metadata": {},
   "outputs": [
    {
     "data": {
      "text/html": [
       "<table class=\"simpletable\">\n",
       "<caption>Multiple Comparison of Means - Tukey HSD, FWER=0.05</caption>\n",
       "<tr>\n",
       "   <th>group1</th>    <th>group2</th>    <th>meandiff</th>   <th>p-adj</th>    <th>lower</th>     <th>upper</th>   <th>reject</th>\n",
       "</tr>\n",
       "<tr>\n",
       "  <td>northeast</td> <td>northwest</td>  <td>-988.8091</td> <td>0.7245</td> <td>-3428.9343</td> <td>1451.3161</td>  <td>False</td>\n",
       "</tr>\n",
       "<tr>\n",
       "  <td>northeast</td> <td>southeast</td>  <td>1329.0269</td> <td>0.4745</td> <td>-1044.9417</td> <td>3702.9955</td>  <td>False</td>\n",
       "</tr>\n",
       "<tr>\n",
       "  <td>northeast</td> <td>southwest</td> <td>-1059.4471</td> <td>0.6792</td> <td>-3499.5723</td> <td>1380.6781</td>  <td>False</td>\n",
       "</tr>\n",
       "<tr>\n",
       "  <td>northwest</td> <td>southeast</td>  <td>2317.8361</td> <td>0.0583</td>  <td>-54.1994</td>  <td>4689.8716</td>  <td>False</td>\n",
       "</tr>\n",
       "<tr>\n",
       "  <td>northwest</td> <td>southwest</td>   <td>-70.638</td>  <td>0.9999</td> <td>-2508.8826</td> <td>2367.6066</td>  <td>False</td>\n",
       "</tr>\n",
       "<tr>\n",
       "  <td>southeast</td> <td>southwest</td> <td>-2388.4741</td> <td>0.0477</td> <td>-4760.5096</td> <td>-16.4386</td>   <td>True</td> \n",
       "</tr>\n",
       "</table>"
      ],
      "text/plain": [
       "<class 'statsmodels.iolib.table.SimpleTable'>"
      ]
     },
     "execution_count": 45,
     "metadata": {},
     "output_type": "execute_result"
    }
   ],
   "source": [
    "# perform tukeys test and display summary \n",
    "tukeys = pairwise_tukeyhsd(values, labels)\n",
    "tukeys.summary()"
   ]
  },
  {
   "cell_type": "markdown",
   "id": "ae0a944c",
   "metadata": {},
   "source": [
    "There is a significant difference between southeast and southwest and then a significant difference between northwest and south east"
   ]
  },
  {
   "cell_type": "code",
   "execution_count": null,
   "id": "86fee045",
   "metadata": {},
   "outputs": [],
   "source": []
  }
 ],
 "metadata": {
  "kernelspec": {
   "display_name": "Python (dojo-env)",
   "language": "python",
   "name": "dojo-env"
  },
  "language_info": {
   "codemirror_mode": {
    "name": "ipython",
    "version": 3
   },
   "file_extension": ".py",
   "mimetype": "text/x-python",
   "name": "python",
   "nbconvert_exporter": "python",
   "pygments_lexer": "ipython3",
   "version": "3.7.12"
  },
  "toc": {
   "base_numbering": 1,
   "nav_menu": {},
   "number_sections": true,
   "sideBar": true,
   "skip_h1_title": false,
   "title_cell": "Table of Contents",
   "title_sidebar": "Contents",
   "toc_cell": false,
   "toc_position": {},
   "toc_section_display": true,
   "toc_window_display": false
  }
 },
 "nbformat": 4,
 "nbformat_minor": 5
}
